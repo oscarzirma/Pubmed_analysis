{
 "metadata": {
  "name": "K-means analysis"
 },
 "nbformat": 3,
 "nbformat_minor": 0,
 "worksheets": [
  {
   "cells": [
    {
     "cell_type": "code",
     "collapsed": false,
     "input": [
      "import pandas as pd\n",
      "import pickle\n",
      "import sys\n",
      "import numpy as np\n",
      "from pylab import plot,show\n",
      "from numpy import vstack,array\n",
      "from numpy.random import rand\n",
      "from scipy.cluster.vq import kmeans,vq,whiten\n",
      "import matplotlib.pyplot as plt\n",
      "import scipy.spatial.distance as dist\n",
      "import scipy.cluster.hierarchy as sch"
     ],
     "language": "python",
     "metadata": {},
     "outputs": [],
     "prompt_number": 70
    },
    {
     "cell_type": "code",
     "collapsed": false,
     "input": [
      "W = pickle.load(open('../../Processed data/Pubmed/WordTfIdf','r'))\n",
      "WF = pickle.load(open('../../Processed data/Pubmed/WordFreq','r'))\n",
      "WP = pickle.load(open('../../Processed data/Pubmed/WordProp','r'))"
     ],
     "language": "python",
     "metadata": {},
     "outputs": [],
     "prompt_number": 71
    },
    {
     "cell_type": "code",
     "collapsed": false,
     "input": [
      "Wm = W.T.as_matrix()\n",
      "Wmw = whiten(Wm)\n",
      "Wmw[-10:,0:3]"
     ],
     "language": "python",
     "metadata": {},
     "outputs": [
      {
       "output_type": "pyout",
       "prompt_number": 83,
       "text": [
        "array([[  4.30897049e-03,   9.90809098e-01,   2.53637154e-02],\n",
        "       [  1.20433015e-02,   1.07693021e+00,   2.82326264e-02],\n",
        "       [  2.26563462e-02,   7.23558821e-01,   2.97250683e-02],\n",
        "       [  1.77345903e-02,   1.08744264e+00,   3.18621265e-02],\n",
        "       [  1.68025124e-02,   9.01503624e-01,   3.32857425e-02],\n",
        "       [  6.20472877e-03,   1.90229560e+00,   3.34057474e-02],\n",
        "       [  5.68277579e-03,   1.52448718e+00,   3.23755809e-02],\n",
        "       [  2.65373940e-03,   3.96632316e+00,   3.16803270e-02],\n",
        "       [  9.96829177e-03,   7.54489251e+00,   3.21068174e-02],\n",
        "       [  1.12026436e-02,   5.58121932e+00,   3.50011621e-02]])"
       ]
      }
     ],
     "prompt_number": 83
    },
    {
     "cell_type": "code",
     "collapsed": false,
     "input": [
      "#create scree plot\n",
      "centroids=[]\n",
      "distortions = []\n",
      "for i in range (1,25):\n",
      "    centroid,distortion = kmeans(Wm,i)\n",
      "    centroids.append(centroid)\n",
      "    distortions.append(distortion)"
     ],
     "language": "python",
     "metadata": {},
     "outputs": [],
     "prompt_number": 90
    },
    {
     "cell_type": "code",
     "collapsed": false,
     "input": [
      "plot(range(1,25),distortions,'ok')\n",
      "show()"
     ],
     "language": "python",
     "metadata": {},
     "outputs": [],
     "prompt_number": 91
    },
    {
     "cell_type": "code",
     "collapsed": false,
     "input": [
      "idx,_ = vq(Wm,centroids[12])\n",
      "total_words = WF.apply(np.sum)\n",
      "distinct_words = WordPresence.apply(np.sum)"
     ],
     "language": "python",
     "metadata": {},
     "outputs": [],
     "prompt_number": 94
    },
    {
     "cell_type": "code",
     "collapsed": false,
     "input": [
      "colors = [(1,0,0),(0,1,0),(0,0,1),(1,1,0),(0,1,1),(1,0,1),(1,.5,0),(1,0,.5),(0,1,.5)]\n",
      "colors = colors+colors"
     ],
     "language": "python",
     "metadata": {},
     "outputs": [],
     "prompt_number": 99
    },
    {
     "cell_type": "code",
     "collapsed": false,
     "input": [
      "sym = ['o','<','s']\n",
      "j=0;k=-1\n",
      "for i in range(0,13):\n",
      "    if j%7==0:\n",
      "        k+=1\n",
      "        symbol=sym[k]\n",
      "    plot(year_index[idx==i],distinct_words[idx==i],marker=symbol,color=colors[i])\n",
      "    j+=1\n",
      "show()"
     ],
     "language": "python",
     "metadata": {},
     "outputs": [],
     "prompt_number": 101
    },
    {
     "cell_type": "code",
     "collapsed": false,
     "input": [
      "sym = ['o','<','s']\n",
      "j=0;k=-1\n",
      "for i in range(0,13):\n",
      "    if j%7==0:\n",
      "        k+=1\n",
      "        symbol=sym[k]\n",
      "    plot(year_index[idx==i],total_words[idx==i],marker=symbol,color=colors[i])\n",
      "    j+=1\n",
      "show()"
     ],
     "language": "python",
     "metadata": {},
     "outputs": [],
     "prompt_number": 102
    },
    {
     "cell_type": "code",
     "collapsed": false,
     "input": [
      "distortions"
     ],
     "language": "python",
     "metadata": {},
     "outputs": [
      {
       "output_type": "pyout",
       "prompt_number": 103,
       "text": [
        "[0.0040180379796220132,\n",
        " 0.0037133605417330479,\n",
        " 0.0035260965061260047,\n",
        " 0.0032674107950381257,\n",
        " 0.0030657946161636663,\n",
        " 0.0027884750013307804,\n",
        " 0.002678763887937979,\n",
        " 0.0024714664028075944,\n",
        " 0.0025193048848548899,\n",
        " 0.0024177314134315214,\n",
        " 0.0023016544459289637,\n",
        " 0.0022968553984194307,\n",
        " 0.0021187060567155326,\n",
        " 0.0022824927657190603,\n",
        " 0.0021779790322721355,\n",
        " 0.0021513397581346969,\n",
        " 0.0021215905900765671,\n",
        " 0.0020991034382211423,\n",
        " 0.0019857342412167894,\n",
        " 0.0020467738388991225,\n",
        " 0.0019784128977263734,\n",
        " 0.0019055129554329789,\n",
        " 0.0019670892010395374,\n",
        " 0.001950740118648294]"
       ]
      }
     ],
     "prompt_number": 103
    },
    {
     "cell_type": "code",
     "collapsed": false,
     "input": [
      "N = 165\n",
      "P = 60965\n",
      "Y = idx"
     ],
     "language": "python",
     "metadata": {},
     "outputs": [],
     "prompt_number": 106
    },
    {
     "cell_type": "code",
     "collapsed": false,
     "input": [
      "c = centroids[13]"
     ],
     "language": "python",
     "metadata": {},
     "outputs": [],
     "prompt_number": 214
    },
    {
     "cell_type": "code",
     "collapsed": false,
     "input": [
      "D=[]\n",
      "Wk=0\n",
      "for i in range(0,c.shape[0]):\n",
      "    n = sum(Y==i)\n",
      "    d = np.sum(np.square(Wm[Y==i,0:]-np.mat(np.tile(c[i,0:],[n,1]))))\n",
      "    D.append(2*n*d)\n",
      "    Wk += d\n",
      "Wk"
     ],
     "language": "python",
     "metadata": {},
     "outputs": [
      {
       "output_type": "pyout",
       "prompt_number": 215,
       "text": [
        "0.01943389795106094"
       ]
      }
     ],
     "prompt_number": 215
    },
    {
     "cell_type": "code",
     "collapsed": false,
     "input": [
      "W=[]\n",
      "\n",
      "for j in range(0,len(centroids)):\n",
      "    Wk=0\n",
      "    c=centroids[j]\n",
      "    Y,_ = vq(Wm,c)\n",
      "    for i in range(0,c.shape[0]):\n",
      "        n = sum(Y==i)\n",
      "        d = np.sum(np.square(Wm[Y==i,0:]-np.mat(np.tile(c[i,0:],[n,1]))))\n",
      "        D.append(2*n*d)\n",
      "        Wk += d\n",
      "    W.append(Wk)"
     ],
     "language": "python",
     "metadata": {},
     "outputs": [],
     "prompt_number": 216
    },
    {
     "cell_type": "code",
     "collapsed": false,
     "input": [
      "plot(W,'ob')\n",
      "plot(distortions,'or')\n",
      "show()"
     ],
     "language": "python",
     "metadata": {},
     "outputs": [],
     "prompt_number": 228
    },
    {
     "cell_type": "code",
     "collapsed": false,
     "input": [
      "Y,_=vq(Wm,centroids[4])"
     ],
     "language": "python",
     "metadata": {},
     "outputs": [],
     "prompt_number": 224
    },
    {
     "cell_type": "code",
     "collapsed": false,
     "input": [
      "plot(year_index,Y,'ob')\n",
      "show()"
     ],
     "language": "python",
     "metadata": {},
     "outputs": [],
     "prompt_number": 238
    },
    {
     "cell_type": "code",
     "collapsed": false,
     "input": [
      "enumerate("
     ],
     "language": "python",
     "metadata": {},
     "outputs": [
      {
       "output_type": "pyout",
       "prompt_number": 54,
       "text": [
        "702833121"
       ]
      }
     ],
     "prompt_number": 54
    },
    {
     "cell_type": "code",
     "collapsed": false,
     "input": [
      "W"
     ],
     "language": "python",
     "metadata": {},
     "outputs": [
      {
       "output_type": "pyout",
       "prompt_number": 230,
       "text": [
        "[0.0053202343946043397,\n",
        " 0.0046139122413889812,\n",
        " 0.0041374145333747054,\n",
        " 0.0040486967279119773,\n",
        " 0.0024017084717748763,\n",
        " 0.0020149032825382226,\n",
        " 0.0019484050607213447,\n",
        " 0.0016005382007906288,\n",
        " 0.0018232223851510345,\n",
        " 0.0017440672211472717,\n",
        " 0.0014038073335598045,\n",
        " 0.0014084140520880355,\n",
        " 0.0011414449322164008,\n",
        " 0.0014871505830253782,\n",
        " 0.001351245077827419,\n",
        " 0.0014182584305325301,\n",
        " 0.0013447534008411439,\n",
        " 0.0013232620202047341,\n",
        " 0.00098911634387279044,\n",
        " 0.0012686484898402079,\n",
        " 0.0010189580365601979,\n",
        " 0.0010119741957216179,\n",
        " 0.0012109920487350626,\n",
        " 0.0012149116659538675]"
       ]
      }
     ],
     "prompt_number": 230
    },
    {
     "cell_type": "code",
     "collapsed": false,
     "input": [
      "plot(W,'o')\n",
      "show()"
     ],
     "language": "python",
     "metadata": {},
     "outputs": [],
     "prompt_number": 237
    },
    {
     "cell_type": "code",
     "collapsed": false,
     "input": [
      "def bounding_box(X):\n",
      "    xmin, xmax = min(X,key=lambda a:a[0])[0], max(X,key=lambda a:a[0])[0]\n",
      "    ymin, ymax = min(X,key=lambda a\n",
      ":a[1])[1], max(X,key=lambda a:a[1])[1]\n",
      "    return (xmin,xmax), (ymin,ymax)"
     ],
     "language": "python",
     "metadata": {},
     "outputs": []
    }
   ],
   "metadata": {}
  }
 ]
}