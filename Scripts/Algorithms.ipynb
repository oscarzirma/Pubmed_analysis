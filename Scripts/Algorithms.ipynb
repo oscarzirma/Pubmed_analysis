{
 "metadata": {
  "name": "Algorithms"
 },
 "nbformat": 3,
 "nbformat_minor": 0,
 "worksheets": [
  {
   "cells": [
    {
     "cell_type": "code",
     "collapsed": false,
     "input": [
      "#PS1-1\n",
      "def findMaxUnimodal(A):\n",
      "    maxi = len(A)-1\n",
      "    mini = 0\n",
      "    midi = maxi/2\n",
      "    a=A[midi]\n",
      "    while maxi>=mini:\n",
      "        print(midi)\n",
      "        print(a)\n",
      "        if (a>A[midi-1])&(a>A[midi+1]):\n",
      "            break\n",
      "        elif a<A[midi-1]:\n",
      "            maxi=midi-1\n",
      "        else:\n",
      "            mini=midi+1\n",
      "        midi=(maxi+mini)/2\n",
      "        a=A[midi]\n",
      "    return a\n",
      "        "
     ],
     "language": "python",
     "metadata": {},
     "outputs": [],
     "prompt_number": 11
    },
    {
     "cell_type": "code",
     "collapsed": false,
     "input": [
      "findMaxUnimodal([1,8,5,4,2,1])"
     ],
     "language": "python",
     "metadata": {},
     "outputs": [
      {
       "output_type": "stream",
       "stream": "stdout",
       "text": [
        "2\n",
        "5\n",
        "0\n",
        "1\n",
        "1\n",
        "8\n"
       ]
      },
      {
       "output_type": "pyout",
       "prompt_number": 14,
       "text": [
        "8"
       ]
      }
     ],
     "prompt_number": 14
    },
    {
     "cell_type": "code",
     "collapsed": false,
     "input": [
      "class BST(object):\n",
      "    \"\"\"\n",
      "Simple binary search tree implementation.\n",
      "This BST supports insert, find, and delete-min operations.\n",
      "Each tree contains some (possibly 0) BSTnode objects, representing nodes,\n",
      "and a pointer to the root.\n",
      "\"\"\"\n",
      "\n",
      "    def __init__(self):\n",
      "        self.root = None\n",
      "\n",
      "    def insert(self, t):\n",
      "        \"\"\"Insert key t into this BST, modifying it in-place.\"\"\"\n",
      "        new = BSTnode(t)\n",
      "        if self.root is None:\n",
      "            self.root = new\n",
      "        else:\n",
      "            node = self.root\n",
      "            while True:\n",
      "                if t < node.key:\n",
      "                    # Go left\n",
      "                    if node.left is None:\n",
      "                        node.left = new\n",
      "                        new.parent = node\n",
      "                        break\n",
      "                    node = node.left\n",
      "                else:\n",
      "                    # Go right\n",
      "                    if node.right is None:\n",
      "                        node.right = new\n",
      "                        new.parent = node\n",
      "                        break\n",
      "                    node = node.right\n",
      "        return new\n",
      "\n",
      "    def find(self, t):\n",
      "        \"\"\"Return the node for key t if is in the tree, or None otherwise.\"\"\"\n",
      "        node = self.root\n",
      "        while node is not None:\n",
      "            if t == node.key:\n",
      "                return node\n",
      "            elif t < node.key:\n",
      "                node = node.left\n",
      "            else:\n",
      "                node = node.right\n",
      "        return None\n",
      "\n",
      "    def delete_min(self):\n",
      "        \"\"\"Delete the minimum key (and return the old node containing it).\"\"\"\n",
      "        if self.root is None:\n",
      "            return None, None\n",
      "        else:\n",
      "            # Walk to leftmost node.\n",
      "            node = self.root\n",
      "            while node.left is not None:\n",
      "                node = node.left\n",
      "            # Remove that node and promote its right subtree.\n",
      "            if node.parent is not None:\n",
      "                node.parent.left = node.right\n",
      "            else: # The root was smallest.\n",
      "                self.root = node.right\n",
      "            if node.right is not None:\n",
      "                node.right.parent = node.parent\n",
      "            parent = node.parent\n",
      "            node.disconnect()\n",
      "            return node, parent\n",
      "\n",
      "    def __str__(self):\n",
      "        if self.root is None: return '<empty tree>'\n",
      "        def recurse(node):\n",
      "            if node is None: return [], 0, 0\n",
      "            label = str(node.key)\n",
      "            left_lines, left_pos, left_width = recurse(node.left)\n",
      "            right_lines, right_pos, right_width = recurse(node.right)\n",
      "            middle = max(right_pos + left_width - left_pos + 1, len(label), 2)\n",
      "            pos = left_pos + middle // 2\n",
      "            width = left_pos + middle + right_width - right_pos\n",
      "            while len(left_lines) < len(right_lines):\n",
      "                left_lines.append(' ' * left_width)\n",
      "            while len(right_lines) < len(left_lines):\n",
      "                right_lines.append(' ' * right_width)\n",
      "            if (middle - len(label)) % 2 == 1 and node.parent is not None and \\\n",
      "               node is node.parent.left and len(label) < middle:\n",
      "                label += '.'\n",
      "            label = label.center(middle, '.')\n",
      "            if label[0] == '.': label = ' ' + label[1:]\n",
      "            if label[-1] == '.': label = label[:-1] + ' '\n",
      "            lines = [' ' * left_pos + label + ' ' * (right_width - right_pos),\n",
      "                     ' ' * left_pos + '/' + ' ' * (middle-2) +\n",
      "                     '\\\\' + ' ' * (right_width - right_pos)] + \\\n",
      "              [left_line + ' ' * (width - left_width - right_width) +\n",
      "               right_line\n",
      "               for left_line, right_line in zip(left_lines, right_lines)]\n",
      "            return lines, pos, width\n",
      "        return '\\n'.join(recurse(self.root) [0])\n",
      "\n",
      "class BSTnode(object):\n",
      "    \"\"\"\n",
      "Representation of a node in a binary search tree.\n",
      "Has a left child, right child, and key value.\n",
      "\"\"\"\n",
      "    def __init__(self, t):\n",
      "        \"\"\"Create a new leaf with key t.\"\"\"\n",
      "        self.key = t\n",
      "        self.disconnect()\n",
      "    def disconnect(self):\n",
      "        self.left = None\n",
      "        self.right = None\n",
      "        self.parent = None\n"
     ],
     "language": "python",
     "metadata": {},
     "outputs": [],
     "prompt_number": 16
    },
    {
     "cell_type": "code",
     "collapsed": false,
     "input": [
      "def peak1d(A,i,j):\n",
      "    m = (i+j)/2\n",
      "    if (A[m] >= A[m-1])&(A[m] >= A[m+1]):\n",
      "        return A[m]\n",
      "    elif A[m] < A[m-1]:\n",
      "        return peak1d(A,i,m-1)\n",
      "    else:\n",
      "        return peak1d(A,m+1,j)\n"
     ],
     "language": "python",
     "metadata": {},
     "outputs": [],
     "prompt_number": 28
    },
    {
     "cell_type": "code",
     "collapsed": false,
     "input": [
      "peak1d([1,8,5,4,7,2,1],0,7)"
     ],
     "language": "python",
     "metadata": {},
     "outputs": [
      {
       "output_type": "pyout",
       "prompt_number": 31,
       "text": [
        "8"
       ]
      }
     ],
     "prompt_number": 31
    },
    {
     "cell_type": "code",
     "collapsed": false,
     "input": [
      "a=5\n",
      "b=6\n",
      "c=[a,b,4,5,6,7,8]\n",
      "n=len(c)\n",
      "c0=c[0:n/2]\n",
      "c1=c[n/2:]\n",
      "c"
     ],
     "language": "python",
     "metadata": {},
     "outputs": [
      {
       "output_type": "pyout",
       "prompt_number": 39,
       "text": [
        "[5, 6, 4, 5, 6, 7, 8]"
       ]
      }
     ],
     "prompt_number": 39
    },
    {
     "cell_type": "code",
     "collapsed": false,
     "input": [
      "c1"
     ],
     "language": "python",
     "metadata": {},
     "outputs": [
      {
       "output_type": "pyout",
       "prompt_number": 40,
       "text": [
        "[5, 6, 7, 8]"
       ]
      }
     ],
     "prompt_number": 40
    },
    {
     "cell_type": "code",
     "collapsed": false,
     "input": [
      "def mergeSort(A):\n",
      "    n = len(A)\n",
      "    if n == 1:\n",
      "        return A\n",
      "    else:\n",
      "        A0 = mergeSort(A[0:n/2])\n",
      "        A1 = mergeSort(A[n/2:])\n",
      "        return mergeLists(A0,A1)"
     ],
     "language": "python",
     "metadata": {},
     "outputs": [],
     "prompt_number": 71
    },
    {
     "cell_type": "code",
     "collapsed": false,
     "input": [
      "def mergeLists(A,B):\n",
      "    a = 0\n",
      "    b = 0\n",
      "    na = len(A)\n",
      "    nb = len(B)\n",
      "    C = []\n",
      "    while (a<na)|(b<nb):\n",
      "        if a == na:\n",
      "            C.append(B[b])\n",
      "            b+=1\n",
      "        elif b == nb:\n",
      "            C.append(A[a])\n",
      "            a+=1\n",
      "        elif A[a] < B[b]:\n",
      "            C.append(A[a])\n",
      "            a+=1\n",
      "        elif A[a] == B[b]:\n",
      "            C.append(A[a])\n",
      "            a+=1\n",
      "            b+=1\n",
      "        else:\n",
      "            C.append(B[b])\n",
      "            b+=1\n",
      "    return C\n"
     ],
     "language": "python",
     "metadata": {},
     "outputs": [],
     "prompt_number": 69
    },
    {
     "cell_type": "code",
     "collapsed": false,
     "input": [
      "mergeLists([1,2,4],[2,3,8])"
     ],
     "language": "python",
     "metadata": {},
     "outputs": [
      {
       "output_type": "pyout",
       "prompt_number": 70,
       "text": [
        "[1, 2, 3, 4, 8]"
       ]
      }
     ],
     "prompt_number": 70
    },
    {
     "cell_type": "code",
     "collapsed": false,
     "input": [
      "mergeSort(c)"
     ],
     "language": "python",
     "metadata": {},
     "outputs": [
      {
       "output_type": "pyout",
       "prompt_number": 72,
       "text": [
        "[4, 5, 6, 7, 8]"
       ]
      }
     ],
     "prompt_number": 72
    },
    {
     "cell_type": "code",
     "collapsed": false,
     "input": [
      "c"
     ],
     "language": "python",
     "metadata": {},
     "outputs": [
      {
       "output_type": "pyout",
       "prompt_number": 73,
       "text": [
        "[5, 6, 4, 5, 6, 7, 8]"
       ]
      }
     ],
     "prompt_number": 73
    },
    {
     "cell_type": "code",
     "collapsed": false,
     "input": [
      "def parents(A,i):\n",
      "    if i == 0:\n",
      "        return None\n",
      "    else:\n",
      "        return (i-1)/2"
     ],
     "language": "python",
     "metadata": {},
     "outputs": [],
     "prompt_number": 74
    },
    {
     "cell_type": "code",
     "collapsed": false,
     "input": [
      "def left(A,i):\n",
      "    if 2*i + 1 < len(A):\n",
      "        return 2*i+1\n",
      "    else:\n",
      "        return None\n",
      "\n",
      "def right(A,i):\n",
      "    if 2*i + 2 < len(A):\n",
      "        return 2*i+2\n",
      "    else:\n",
      "        return None"
     ],
     "language": "python",
     "metadata": {},
     "outputs": [],
     "prompt_number": 75
    },
    {
     "cell_type": "code",
     "collapsed": false,
     "input": [
      "def max_heapify(A,i):\n",
      "    l = left(A,i)\n",
      "    r = right(A,i)\n",
      "    if ((l!=None) & (A[l] > A[i]))|((r!=None) & (A[r] > A[i])):\n",
      "        print('yes')        \n",
      "        if A[l] > A[r]:\n",
      "            n = A[i]\n",
      "            A[i] = A[l]\n",
      "            A[l] = n\n",
      "            max_heapify(A,l)\n",
      "        else:\n",
      "            n = A[i]\n",
      "            A[i] = A[r]\n",
      "            A[r] = n\n",
      "            max_heapify(A,r) \n",
      "    else:\n",
      "        return A"
     ],
     "language": "python",
     "metadata": {},
     "outputs": [],
     "prompt_number": 132
    },
    {
     "cell_type": "code",
     "collapsed": false,
     "input": [
      "A=[10,8,5,4,5,9,2]\n",
      "max_heapify(A,2)"
     ],
     "language": "python",
     "metadata": {},
     "outputs": [
      {
       "ename": "TypeError",
       "evalue": "list indices must be integers, not NoneType",
       "output_type": "pyerr",
       "traceback": [
        "\u001b[0;31m---------------------------------------------------------------------------\u001b[0m\n\u001b[0;31mTypeError\u001b[0m                                 Traceback (most recent call last)",
        "\u001b[0;32m<ipython-input-133-de1a36952510>\u001b[0m in \u001b[0;36m<module>\u001b[0;34m()\u001b[0m\n\u001b[1;32m      1\u001b[0m \u001b[0mA\u001b[0m\u001b[0;34m=\u001b[0m\u001b[0;34m[\u001b[0m\u001b[0;36m10\u001b[0m\u001b[0;34m,\u001b[0m\u001b[0;36m8\u001b[0m\u001b[0;34m,\u001b[0m\u001b[0;36m5\u001b[0m\u001b[0;34m,\u001b[0m\u001b[0;36m4\u001b[0m\u001b[0;34m,\u001b[0m\u001b[0;36m5\u001b[0m\u001b[0;34m,\u001b[0m\u001b[0;36m9\u001b[0m\u001b[0;34m,\u001b[0m\u001b[0;36m2\u001b[0m\u001b[0;34m]\u001b[0m\u001b[0;34m\u001b[0m\u001b[0m\n\u001b[0;32m----> 2\u001b[0;31m \u001b[0mmax_heapify\u001b[0m\u001b[0;34m(\u001b[0m\u001b[0mA\u001b[0m\u001b[0;34m,\u001b[0m\u001b[0;36m2\u001b[0m\u001b[0;34m)\u001b[0m\u001b[0;34m\u001b[0m\u001b[0m\n\u001b[0m",
        "\u001b[0;32m<ipython-input-132-a30c4af24aad>\u001b[0m in \u001b[0;36mmax_heapify\u001b[0;34m(A, i)\u001b[0m\n\u001b[1;32m      8\u001b[0m             \u001b[0mA\u001b[0m\u001b[0;34m[\u001b[0m\u001b[0mi\u001b[0m\u001b[0;34m]\u001b[0m \u001b[0;34m=\u001b[0m \u001b[0mA\u001b[0m\u001b[0;34m[\u001b[0m\u001b[0ml\u001b[0m\u001b[0;34m]\u001b[0m\u001b[0;34m\u001b[0m\u001b[0m\n\u001b[1;32m      9\u001b[0m             \u001b[0mA\u001b[0m\u001b[0;34m[\u001b[0m\u001b[0ml\u001b[0m\u001b[0;34m]\u001b[0m \u001b[0;34m=\u001b[0m \u001b[0mn\u001b[0m\u001b[0;34m\u001b[0m\u001b[0m\n\u001b[0;32m---> 10\u001b[0;31m             \u001b[0mmax_heapify\u001b[0m\u001b[0;34m(\u001b[0m\u001b[0mA\u001b[0m\u001b[0;34m,\u001b[0m\u001b[0ml\u001b[0m\u001b[0;34m)\u001b[0m\u001b[0;34m\u001b[0m\u001b[0m\n\u001b[0m\u001b[1;32m     11\u001b[0m         \u001b[0;32melse\u001b[0m\u001b[0;34m:\u001b[0m\u001b[0;34m\u001b[0m\u001b[0m\n\u001b[1;32m     12\u001b[0m             \u001b[0mn\u001b[0m \u001b[0;34m=\u001b[0m \u001b[0mA\u001b[0m\u001b[0;34m[\u001b[0m\u001b[0mi\u001b[0m\u001b[0;34m]\u001b[0m\u001b[0;34m\u001b[0m\u001b[0m\n",
        "\u001b[0;32m<ipython-input-132-a30c4af24aad>\u001b[0m in \u001b[0;36mmax_heapify\u001b[0;34m(A, i)\u001b[0m\n\u001b[1;32m      2\u001b[0m     \u001b[0ml\u001b[0m \u001b[0;34m=\u001b[0m \u001b[0mleft\u001b[0m\u001b[0;34m(\u001b[0m\u001b[0mA\u001b[0m\u001b[0;34m,\u001b[0m\u001b[0mi\u001b[0m\u001b[0;34m)\u001b[0m\u001b[0;34m\u001b[0m\u001b[0m\n\u001b[1;32m      3\u001b[0m     \u001b[0mr\u001b[0m \u001b[0;34m=\u001b[0m \u001b[0mright\u001b[0m\u001b[0;34m(\u001b[0m\u001b[0mA\u001b[0m\u001b[0;34m,\u001b[0m\u001b[0mi\u001b[0m\u001b[0;34m)\u001b[0m\u001b[0;34m\u001b[0m\u001b[0m\n\u001b[0;32m----> 4\u001b[0;31m     \u001b[0;32mif\u001b[0m \u001b[0;34m(\u001b[0m\u001b[0;34m(\u001b[0m\u001b[0ml\u001b[0m\u001b[0;34m!=\u001b[0m\u001b[0mNone\u001b[0m\u001b[0;34m)\u001b[0m \u001b[0;34m&\u001b[0m \u001b[0;34m(\u001b[0m\u001b[0mA\u001b[0m\u001b[0;34m[\u001b[0m\u001b[0ml\u001b[0m\u001b[0;34m]\u001b[0m \u001b[0;34m>\u001b[0m \u001b[0mA\u001b[0m\u001b[0;34m[\u001b[0m\u001b[0mi\u001b[0m\u001b[0;34m]\u001b[0m\u001b[0;34m)\u001b[0m\u001b[0;34m)\u001b[0m\u001b[0;34m|\u001b[0m\u001b[0;34m(\u001b[0m\u001b[0;34m(\u001b[0m\u001b[0mr\u001b[0m\u001b[0;34m!=\u001b[0m\u001b[0mNone\u001b[0m\u001b[0;34m)\u001b[0m \u001b[0;34m&\u001b[0m \u001b[0;34m(\u001b[0m\u001b[0mA\u001b[0m\u001b[0;34m[\u001b[0m\u001b[0mr\u001b[0m\u001b[0;34m]\u001b[0m \u001b[0;34m>\u001b[0m \u001b[0mA\u001b[0m\u001b[0;34m[\u001b[0m\u001b[0mi\u001b[0m\u001b[0;34m]\u001b[0m\u001b[0;34m)\u001b[0m\u001b[0;34m)\u001b[0m\u001b[0;34m:\u001b[0m\u001b[0;34m\u001b[0m\u001b[0m\n\u001b[0m\u001b[1;32m      5\u001b[0m         \u001b[0;32mprint\u001b[0m\u001b[0;34m(\u001b[0m\u001b[0;34m'yes'\u001b[0m\u001b[0;34m)\u001b[0m\u001b[0;34m\u001b[0m\u001b[0m\n\u001b[1;32m      6\u001b[0m         \u001b[0;32mif\u001b[0m \u001b[0mA\u001b[0m\u001b[0;34m[\u001b[0m\u001b[0ml\u001b[0m\u001b[0;34m]\u001b[0m \u001b[0;34m>\u001b[0m \u001b[0mA\u001b[0m\u001b[0;34m[\u001b[0m\u001b[0mr\u001b[0m\u001b[0;34m]\u001b[0m\u001b[0;34m:\u001b[0m\u001b[0;34m\u001b[0m\u001b[0m\n",
        "\u001b[0;31mTypeError\u001b[0m: list indices must be integers, not NoneType"
       ]
      },
      {
       "output_type": "stream",
       "stream": "stdout",
       "text": [
        "yes\n"
       ]
      }
     ],
     "prompt_number": 133
    },
    {
     "cell_type": "code",
     "collapsed": false,
     "input": [
      "l=left(A,2)\n",
      "i = 2\n",
      "if l & A[l]>A[i]:\n",
      "    print('yes')"
     ],
     "language": "python",
     "metadata": {},
     "outputs": [],
     "prompt_number": 93
    },
    {
     "cell_type": "code",
     "collapsed": false,
     "input": [
      "l=None\n",
      "(l != None)"
     ],
     "language": "python",
     "metadata": {},
     "outputs": [
      {
       "output_type": "pyout",
       "prompt_number": 126,
       "text": [
        "False"
       ]
      }
     ],
     "prompt_number": 126
    },
    {
     "cell_type": "code",
     "collapsed": false,
     "input": [
      "import numpy as np\n",
      "import math"
     ],
     "language": "python",
     "metadata": {},
     "outputs": [],
     "prompt_number": 136
    },
    {
     "cell_type": "code",
     "collapsed": false,
     "input": [
      "math.factorial(5)/(math.factorial(0)*math.factorial(5))"
     ],
     "language": "python",
     "metadata": {},
     "outputs": [
      {
       "output_type": "pyout",
       "prompt_number": 137,
       "text": [
        "1"
       ]
      }
     ],
     "prompt_number": 137
    },
    {
     "cell_type": "code",
     "collapsed": false,
     "input": [
      ".2**5"
     ],
     "language": "python",
     "metadata": {},
     "outputs": [
      {
       "output_type": "pyout",
       "prompt_number": 138,
       "text": [
        "0.0003200000000000001"
       ]
      }
     ],
     "prompt_number": 138
    },
    {
     "cell_type": "code",
     "collapsed": false,
     "input": [
      ".2**4 * .8 * 5"
     ],
     "language": "python",
     "metadata": {},
     "outputs": [
      {
       "output_type": "pyout",
       "prompt_number": 141,
       "text": [
        "0.006400000000000001"
       ]
      }
     ],
     "prompt_number": 141
    },
    {
     "cell_type": "code",
     "collapsed": false,
     "input": [
      "def choose(n,k):\n",
      "    return math.factorial(n)/(math.factorial(k)*math.factorial(n-k))"
     ],
     "language": "python",
     "metadata": {},
     "outputs": [],
     "prompt_number": 142
    },
    {
     "cell_type": "code",
     "collapsed": false,
     "input": [
      "choose(5,1) * .8**2 * .2**2"
     ],
     "language": "python",
     "metadata": {},
     "outputs": [
      {
       "output_type": "pyout",
       "prompt_number": 149,
       "text": [
        "0.12800000000000006"
       ]
      }
     ],
     "prompt_number": 149
    },
    {
     "cell_type": "code",
     "collapsed": false,
     "input": [
      "choose(5,3) * .8**3 * .2**2"
     ],
     "language": "python",
     "metadata": {},
     "outputs": [
      {
       "output_type": "pyout",
       "prompt_number": 151,
       "text": [
        "0.2048000000000001"
       ]
      }
     ],
     "prompt_number": 151
    },
    {
     "cell_type": "code",
     "collapsed": false,
     "input": [
      "choose(5,4) * .8**4 * .2**1"
     ],
     "language": "python",
     "metadata": {},
     "outputs": [
      {
       "output_type": "pyout",
       "prompt_number": 152,
       "text": [
        "0.40960000000000013"
       ]
      }
     ],
     "prompt_number": 152
    },
    {
     "cell_type": "code",
     "collapsed": false,
     "input": [
      ".8**5"
     ],
     "language": "python",
     "metadata": {},
     "outputs": [
      {
       "output_type": "pyout",
       "prompt_number": 156,
       "text": [
        "0.3276800000000001"
       ]
      }
     ],
     "prompt_number": 156
    },
    {
     "cell_type": "code",
     "collapsed": false,
     "input": [
      "5*.8*.2"
     ],
     "language": "python",
     "metadata": {},
     "outputs": [
      {
       "output_type": "pyout",
       "prompt_number": 157,
       "text": [
        "0.8"
       ]
      }
     ],
     "prompt_number": 157
    },
    {
     "cell_type": "code",
     "collapsed": false,
     "input": [
      "math.sqrt(.8)"
     ],
     "language": "python",
     "metadata": {},
     "outputs": [
      {
       "output_type": "pyout",
       "prompt_number": 158,
       "text": [
        "0.8944271909999159"
       ]
      }
     ],
     "prompt_number": 158
    },
    {
     "cell_type": "code",
     "collapsed": false,
     "input": [
      ".95**20"
     ],
     "language": "python",
     "metadata": {},
     "outputs": [
      {
       "output_type": "pyout",
       "prompt_number": 160,
       "text": [
        "0.3584859224085419"
       ]
      }
     ],
     "prompt_number": 160
    },
    {
     "cell_type": "code",
     "collapsed": false,
     "input": [
      "choose(20,1)*.95**19*.05"
     ],
     "language": "python",
     "metadata": {},
     "outputs": [
      {
       "output_type": "pyout",
       "prompt_number": 164,
       "text": [
        "0.37735360253530725"
       ]
      }
     ],
     "prompt_number": 164
    },
    {
     "cell_type": "code",
     "collapsed": false,
     "input": [
      ".358+.377"
     ],
     "language": "python",
     "metadata": {},
     "outputs": [
      {
       "output_type": "pyout",
       "prompt_number": 165,
       "text": [
        "0.735"
       ]
      }
     ],
     "prompt_number": 165
    },
    {
     "cell_type": "code",
     "collapsed": false,
     "input": [
      ".9**20"
     ],
     "language": "python",
     "metadata": {},
     "outputs": [
      {
       "output_type": "pyout",
       "prompt_number": 166,
       "text": [
        "0.12157665459056935"
       ]
      }
     ],
     "prompt_number": 166
    },
    {
     "cell_type": "code",
     "collapsed": false,
     "input": [
      "choose(20,1)*.9**19*.1"
     ],
     "language": "python",
     "metadata": {},
     "outputs": [
      {
       "output_type": "pyout",
       "prompt_number": 167,
       "text": [
        "0.27017034353459857"
       ]
      }
     ],
     "prompt_number": 167
    },
    {
     "cell_type": "code",
     "collapsed": false,
     "input": [
      ".2702+.1216"
     ],
     "language": "python",
     "metadata": {},
     "outputs": [
      {
       "output_type": "pyout",
       "prompt_number": 168,
       "text": [
        "0.3918"
       ]
      }
     ],
     "prompt_number": 168
    },
    {
     "cell_type": "code",
     "collapsed": false,
     "input": [
      "math.e**-3"
     ],
     "language": "python",
     "metadata": {},
     "outputs": [
      {
       "output_type": "pyout",
       "prompt_number": 171,
       "text": [
        "0.04978706836786395"
       ]
      }
     ],
     "prompt_number": 171
    },
    {
     "cell_type": "code",
     "collapsed": false,
     "input": [
      "3*math.e**-3"
     ],
     "language": "python",
     "metadata": {},
     "outputs": [
      {
       "output_type": "pyout",
       "prompt_number": 172,
       "text": [
        "0.14936120510359185"
       ]
      }
     ],
     "prompt_number": 172
    },
    {
     "cell_type": "code",
     "collapsed": false,
     "input": [
      "(3.**2/2.)*math.e**-3"
     ],
     "language": "python",
     "metadata": {},
     "outputs": [
      {
       "output_type": "pyout",
       "prompt_number": 194,
       "text": [
        "0.22404180765538778"
       ]
      }
     ],
     "prompt_number": 194
    },
    {
     "cell_type": "code",
     "collapsed": false,
     "input": [
      "(3.**3/math.factorial(3.))*math.e**-3"
     ],
     "language": "python",
     "metadata": {},
     "outputs": [
      {
       "output_type": "pyout",
       "prompt_number": 193,
       "text": [
        "0.22404180765538778"
       ]
      }
     ],
     "prompt_number": 193
    },
    {
     "cell_type": "code",
     "collapsed": false,
     "input": [
      "math.factorial(3)"
     ],
     "language": "python",
     "metadata": {},
     "outputs": [
      {
       "output_type": "pyout",
       "prompt_number": 176,
       "text": [
        "6"
       ]
      }
     ],
     "prompt_number": 176
    },
    {
     "cell_type": "code",
     "collapsed": false,
     "input": [
      "((3.**4)/math.factorial(4))*(math.e**-3)"
     ],
     "language": "python",
     "metadata": {},
     "outputs": [
      {
       "output_type": "pyout",
       "prompt_number": 190,
       "text": [
        "0.16803135574154082"
       ]
      }
     ],
     "prompt_number": 190
    },
    {
     "cell_type": "code",
     "collapsed": false,
     "input": [
      "(3.**5/math.factorial(5))*math.e**-3"
     ],
     "language": "python",
     "metadata": {},
     "outputs": [
      {
       "output_type": "pyout",
       "prompt_number": 191,
       "text": [
        "0.1008188134449245"
       ]
      }
     ],
     "prompt_number": 191
    },
    {
     "cell_type": "code",
     "collapsed": false,
     "input": [
      "(3.**6/math.factorial(6))*math.e**-3"
     ],
     "language": "python",
     "metadata": {},
     "outputs": [
      {
       "output_type": "pyout",
       "prompt_number": 192,
       "text": [
        "0.05040940672246225"
       ]
      }
     ],
     "prompt_number": 192
    },
    {
     "cell_type": "code",
     "collapsed": false,
     "input": [
      "3**4"
     ],
     "language": "python",
     "metadata": {},
     "outputs": [
      {
       "output_type": "pyout",
       "prompt_number": 184,
       "text": [
        "81"
       ]
      }
     ],
     "prompt_number": 184
    },
    {
     "cell_type": "code",
     "collapsed": false,
     "input": [
      "math.factorial(4)"
     ],
     "language": "python",
     "metadata": {},
     "outputs": [
      {
       "output_type": "pyout",
       "prompt_number": 185,
       "text": [
        "24"
       ]
      }
     ],
     "prompt_number": 185
    },
    {
     "cell_type": "code",
     "collapsed": false,
     "input": [
      "81/24.*math.e**-3"
     ],
     "language": "python",
     "metadata": {},
     "outputs": [
      {
       "output_type": "pyout",
       "prompt_number": 187,
       "text": [
        "0.16803135574154082"
       ]
      }
     ],
     "prompt_number": 187
    },
    {
     "cell_type": "code",
     "collapsed": false,
     "input": [
      "(20.**10/math.factorial(10))*math.e**-20"
     ],
     "language": "python",
     "metadata": {},
     "outputs": [
      {
       "output_type": "pyout",
       "prompt_number": 195,
       "text": [
        "0.005816306518345143"
       ]
      }
     ],
     "prompt_number": 195
    },
    {
     "cell_type": "code",
     "collapsed": false,
     "input": [
      "choose(120,10)*(1/6.)**10 * (5/6.)**110"
     ],
     "language": "python",
     "metadata": {},
     "outputs": [
      {
       "output_type": "pyout",
       "prompt_number": 196,
       "text": [
        "0.003743377282382373"
       ]
      }
     ],
     "prompt_number": 196
    },
    {
     "cell_type": "code",
     "collapsed": false,
     "input": [
      "(62.7**70/math.factorial(70))*math.e**-62.7"
     ],
     "language": "python",
     "metadata": {},
     "outputs": [
      {
       "output_type": "pyout",
       "prompt_number": 197,
       "text": [
        "0.03162705888230742"
       ]
      }
     ],
     "prompt_number": 197
    },
    {
     "cell_type": "code",
     "collapsed": false,
     "input": [],
     "language": "python",
     "metadata": {},
     "outputs": []
    }
   ],
   "metadata": {}
  }
 ]
}